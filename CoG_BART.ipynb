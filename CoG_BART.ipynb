{
  "nbformat": 4,
  "nbformat_minor": 0,
  "metadata": {
    "colab": {
      "name": "CoG-BART.ipynb",
      "provenance": []
    },
    "kernelspec": {
      "name": "python3",
      "display_name": "Python 3"
    },
    "language_info": {
      "name": "python"
    }
  },
  "cells": [
    {
      "cell_type": "code",
      "execution_count": 1,
      "metadata": {
        "id": "_R2f5YPIHgdj",
        "colab": {
          "base_uri": "https://localhost:8080/"
        },
        "outputId": "d512c124-1f6d-4ec3-c2d4-22d998c8d09c"
      },
      "outputs": [
        {
          "output_type": "stream",
          "name": "stdout",
          "text": [
            "Cloning into 'CoG-BART'...\n",
            "remote: Enumerating objects: 106, done.\u001b[K\n",
            "remote: Counting objects: 100% (106/106), done.\u001b[K\n",
            "remote: Compressing objects: 100% (73/73), done.\u001b[K\n",
            "remote: Total 106 (delta 35), reused 99 (delta 29), pack-reused 0\u001b[K\n",
            "Receiving objects: 100% (106/106), 35.70 MiB | 10.20 MiB/s, done.\n",
            "Resolving deltas: 100% (35/35), done.\n"
          ]
        }
      ],
      "source": [
        "!git clone https://github.com/MagicDinosaur/CoG-BART.git"
      ]
    },
    {
      "cell_type": "code",
      "source": [
        "!pip install torch==1.7.1 \n",
        "!pip install transformers==4.11.\n",
        "!pip install numpy\n",
        "!pip install pickle\n",
        "!pip install tqdm\n",
        "!pip install sklearn\n",
        "!pip installfitlog"
      ],
      "metadata": {
        "id": "-nAxAxlaHhzW",
        "colab": {
          "base_uri": "https://localhost:8080/"
        },
        "outputId": "0a300b19-a189-4c72-821e-07373e5d1d32"
      },
      "execution_count": 2,
      "outputs": [
        {
          "output_type": "stream",
          "name": "stdout",
          "text": [
            "Collecting torch==1.7.1\n",
            "  Downloading torch-1.7.1-cp37-cp37m-manylinux1_x86_64.whl (776.8 MB)\n",
            "\u001b[K     |████████████████████████████████| 776.8 MB 15 kB/s \n",
            "\u001b[?25hRequirement already satisfied: typing-extensions in /usr/local/lib/python3.7/dist-packages (from torch==1.7.1) (3.10.0.2)\n",
            "Requirement already satisfied: numpy in /usr/local/lib/python3.7/dist-packages (from torch==1.7.1) (1.21.5)\n",
            "Installing collected packages: torch\n",
            "  Attempting uninstall: torch\n",
            "    Found existing installation: torch 1.10.0+cu111\n",
            "    Uninstalling torch-1.10.0+cu111:\n",
            "      Successfully uninstalled torch-1.10.0+cu111\n",
            "\u001b[31mERROR: pip's dependency resolver does not currently take into account all the packages that are installed. This behaviour is the source of the following dependency conflicts.\n",
            "torchvision 0.11.1+cu111 requires torch==1.10.0, but you have torch 1.7.1 which is incompatible.\n",
            "torchtext 0.11.0 requires torch==1.10.0, but you have torch 1.7.1 which is incompatible.\n",
            "torchaudio 0.10.0+cu111 requires torch==1.10.0, but you have torch 1.7.1 which is incompatible.\u001b[0m\n",
            "Successfully installed torch-1.7.1\n",
            "Collecting transformers==4.11.\n",
            "  Downloading transformers-4.11.0-py3-none-any.whl (2.9 MB)\n",
            "\u001b[K     |████████████████████████████████| 2.9 MB 5.0 MB/s \n",
            "\u001b[?25hRequirement already satisfied: filelock in /usr/local/lib/python3.7/dist-packages (from transformers==4.11.) (3.6.0)\n",
            "Requirement already satisfied: packaging>=20.0 in /usr/local/lib/python3.7/dist-packages (from transformers==4.11.) (21.3)\n",
            "Requirement already satisfied: numpy>=1.17 in /usr/local/lib/python3.7/dist-packages (from transformers==4.11.) (1.21.5)\n",
            "Collecting pyyaml>=5.1\n",
            "  Downloading PyYAML-6.0-cp37-cp37m-manylinux_2_5_x86_64.manylinux1_x86_64.manylinux_2_12_x86_64.manylinux2010_x86_64.whl (596 kB)\n",
            "\u001b[K     |████████████████████████████████| 596 kB 61.8 MB/s \n",
            "\u001b[?25hCollecting huggingface-hub>=0.0.17\n",
            "  Downloading huggingface_hub-0.4.0-py3-none-any.whl (67 kB)\n",
            "\u001b[K     |████████████████████████████████| 67 kB 4.7 MB/s \n",
            "\u001b[?25hRequirement already satisfied: regex!=2019.12.17 in /usr/local/lib/python3.7/dist-packages (from transformers==4.11.) (2019.12.20)\n",
            "Collecting sacremoses\n",
            "  Downloading sacremoses-0.0.49-py3-none-any.whl (895 kB)\n",
            "\u001b[K     |████████████████████████████████| 895 kB 32.8 MB/s \n",
            "\u001b[?25hCollecting tokenizers<0.11,>=0.10.1\n",
            "  Downloading tokenizers-0.10.3-cp37-cp37m-manylinux_2_5_x86_64.manylinux1_x86_64.manylinux_2_12_x86_64.manylinux2010_x86_64.whl (3.3 MB)\n",
            "\u001b[K     |████████████████████████████████| 3.3 MB 47.6 MB/s \n",
            "\u001b[?25hRequirement already satisfied: tqdm>=4.27 in /usr/local/lib/python3.7/dist-packages (from transformers==4.11.) (4.63.0)\n",
            "Requirement already satisfied: requests in /usr/local/lib/python3.7/dist-packages (from transformers==4.11.) (2.23.0)\n",
            "Requirement already satisfied: importlib-metadata in /usr/local/lib/python3.7/dist-packages (from transformers==4.11.) (4.11.2)\n",
            "Requirement already satisfied: typing-extensions>=3.7.4.3 in /usr/local/lib/python3.7/dist-packages (from huggingface-hub>=0.0.17->transformers==4.11.) (3.10.0.2)\n",
            "Requirement already satisfied: pyparsing!=3.0.5,>=2.0.2 in /usr/local/lib/python3.7/dist-packages (from packaging>=20.0->transformers==4.11.) (3.0.7)\n",
            "Requirement already satisfied: zipp>=0.5 in /usr/local/lib/python3.7/dist-packages (from importlib-metadata->transformers==4.11.) (3.7.0)\n",
            "Requirement already satisfied: urllib3!=1.25.0,!=1.25.1,<1.26,>=1.21.1 in /usr/local/lib/python3.7/dist-packages (from requests->transformers==4.11.) (1.24.3)\n",
            "Requirement already satisfied: certifi>=2017.4.17 in /usr/local/lib/python3.7/dist-packages (from requests->transformers==4.11.) (2021.10.8)\n",
            "Requirement already satisfied: idna<3,>=2.5 in /usr/local/lib/python3.7/dist-packages (from requests->transformers==4.11.) (2.10)\n",
            "Requirement already satisfied: chardet<4,>=3.0.2 in /usr/local/lib/python3.7/dist-packages (from requests->transformers==4.11.) (3.0.4)\n",
            "Requirement already satisfied: six in /usr/local/lib/python3.7/dist-packages (from sacremoses->transformers==4.11.) (1.15.0)\n",
            "Requirement already satisfied: click in /usr/local/lib/python3.7/dist-packages (from sacremoses->transformers==4.11.) (7.1.2)\n",
            "Requirement already satisfied: joblib in /usr/local/lib/python3.7/dist-packages (from sacremoses->transformers==4.11.) (1.1.0)\n",
            "Installing collected packages: pyyaml, tokenizers, sacremoses, huggingface-hub, transformers\n",
            "  Attempting uninstall: pyyaml\n",
            "    Found existing installation: PyYAML 3.13\n",
            "    Uninstalling PyYAML-3.13:\n",
            "      Successfully uninstalled PyYAML-3.13\n",
            "Successfully installed huggingface-hub-0.4.0 pyyaml-6.0 sacremoses-0.0.49 tokenizers-0.10.3 transformers-4.11.0\n",
            "Requirement already satisfied: numpy in /usr/local/lib/python3.7/dist-packages (1.21.5)\n",
            "\u001b[31mERROR: Could not find a version that satisfies the requirement pickle (from versions: none)\u001b[0m\n",
            "\u001b[31mERROR: No matching distribution found for pickle\u001b[0m\n",
            "Requirement already satisfied: tqdm in /usr/local/lib/python3.7/dist-packages (4.63.0)\n",
            "Requirement already satisfied: sklearn in /usr/local/lib/python3.7/dist-packages (0.0)\n",
            "Requirement already satisfied: scikit-learn in /usr/local/lib/python3.7/dist-packages (from sklearn) (1.0.2)\n",
            "Requirement already satisfied: joblib>=0.11 in /usr/local/lib/python3.7/dist-packages (from scikit-learn->sklearn) (1.1.0)\n",
            "Requirement already satisfied: scipy>=1.1.0 in /usr/local/lib/python3.7/dist-packages (from scikit-learn->sklearn) (1.4.1)\n",
            "Requirement already satisfied: threadpoolctl>=2.0.0 in /usr/local/lib/python3.7/dist-packages (from scikit-learn->sklearn) (3.1.0)\n",
            "Requirement already satisfied: numpy>=1.14.6 in /usr/local/lib/python3.7/dist-packages (from scikit-learn->sklearn) (1.21.5)\n",
            "Collecting fitlog\n",
            "  Downloading fitlog-0.9.13.tar.gz (925 kB)\n",
            "\u001b[K     |████████████████████████████████| 925 kB 5.3 MB/s \n",
            "\u001b[?25hRequirement already satisfied: docopt>=0.6.2 in /usr/local/lib/python3.7/dist-packages (from fitlog) (0.6.2)\n",
            "Requirement already satisfied: flask>=1.0.2 in /usr/local/lib/python3.7/dist-packages (from fitlog) (1.1.4)\n",
            "Requirement already satisfied: numpy>=1.16.4 in /usr/local/lib/python3.7/dist-packages (from fitlog) (1.21.5)\n",
            "Collecting gitpython>=3.1.2\n",
            "  Downloading GitPython-3.1.27-py3-none-any.whl (181 kB)\n",
            "\u001b[K     |████████████████████████████████| 181 kB 36.2 MB/s \n",
            "\u001b[?25hRequirement already satisfied: Werkzeug<2.0,>=0.15 in /usr/local/lib/python3.7/dist-packages (from flask>=1.0.2->fitlog) (1.0.1)\n",
            "Requirement already satisfied: click<8.0,>=5.1 in /usr/local/lib/python3.7/dist-packages (from flask>=1.0.2->fitlog) (7.1.2)\n",
            "Requirement already satisfied: itsdangerous<2.0,>=0.24 in /usr/local/lib/python3.7/dist-packages (from flask>=1.0.2->fitlog) (1.1.0)\n",
            "Requirement already satisfied: Jinja2<3.0,>=2.10.1 in /usr/local/lib/python3.7/dist-packages (from flask>=1.0.2->fitlog) (2.11.3)\n",
            "Requirement already satisfied: typing-extensions>=3.7.4.3 in /usr/local/lib/python3.7/dist-packages (from gitpython>=3.1.2->fitlog) (3.10.0.2)\n",
            "Collecting gitdb<5,>=4.0.1\n",
            "  Downloading gitdb-4.0.9-py3-none-any.whl (63 kB)\n",
            "\u001b[K     |████████████████████████████████| 63 kB 1.6 MB/s \n",
            "\u001b[?25hCollecting smmap<6,>=3.0.1\n",
            "  Downloading smmap-5.0.0-py3-none-any.whl (24 kB)\n",
            "Requirement already satisfied: MarkupSafe>=0.23 in /usr/local/lib/python3.7/dist-packages (from Jinja2<3.0,>=2.10.1->flask>=1.0.2->fitlog) (2.0.1)\n",
            "Building wheels for collected packages: fitlog\n",
            "  Building wheel for fitlog (setup.py) ... \u001b[?25l\u001b[?25hdone\n",
            "  Created wheel for fitlog: filename=fitlog-0.9.13-py3-none-any.whl size=967495 sha256=8dbfa4da7ac82a16634ceec425f7ff3e4865bf6d6f815db45fca509f5fad2810\n",
            "  Stored in directory: /root/.cache/pip/wheels/7d/95/d4/a1a752c27fad922c452674b431fb58417ac6de1a530c8a6d05\n",
            "Successfully built fitlog\n",
            "Installing collected packages: smmap, gitdb, gitpython, fitlog\n",
            "Successfully installed fitlog-0.9.13 gitdb-4.0.9 gitpython-3.1.27 smmap-5.0.0\n"
          ]
        }
      ]
    },
    {
      "cell_type": "code",
      "source": [
        "!pip install numpy \n",
        "!pip install tqdm \n",
        "!pip install sklearn \n",
        "!pip install fitlog"
      ],
      "metadata": {
        "id": "FhezjKHZHigv",
        "colab": {
          "base_uri": "https://localhost:8080/"
        },
        "outputId": "015354f7-6a4d-49da-a3ff-b80ea3546888"
      },
      "execution_count": 3,
      "outputs": [
        {
          "output_type": "stream",
          "name": "stdout",
          "text": [
            "Requirement already satisfied: numpy in /usr/local/lib/python3.7/dist-packages (1.21.5)\n",
            "Requirement already satisfied: tqdm in /usr/local/lib/python3.7/dist-packages (4.63.0)\n",
            "Requirement already satisfied: sklearn in /usr/local/lib/python3.7/dist-packages (0.0)\n",
            "Requirement already satisfied: scikit-learn in /usr/local/lib/python3.7/dist-packages (from sklearn) (1.0.2)\n",
            "Requirement already satisfied: scipy>=1.1.0 in /usr/local/lib/python3.7/dist-packages (from scikit-learn->sklearn) (1.4.1)\n",
            "Requirement already satisfied: numpy>=1.14.6 in /usr/local/lib/python3.7/dist-packages (from scikit-learn->sklearn) (1.21.5)\n",
            "Requirement already satisfied: threadpoolctl>=2.0.0 in /usr/local/lib/python3.7/dist-packages (from scikit-learn->sklearn) (3.1.0)\n",
            "Requirement already satisfied: joblib>=0.11 in /usr/local/lib/python3.7/dist-packages (from scikit-learn->sklearn) (1.1.0)\n",
            "Requirement already satisfied: fitlog in /usr/local/lib/python3.7/dist-packages (0.9.13)\n",
            "Requirement already satisfied: docopt>=0.6.2 in /usr/local/lib/python3.7/dist-packages (from fitlog) (0.6.2)\n",
            "Requirement already satisfied: numpy>=1.16.4 in /usr/local/lib/python3.7/dist-packages (from fitlog) (1.21.5)\n",
            "Requirement already satisfied: flask>=1.0.2 in /usr/local/lib/python3.7/dist-packages (from fitlog) (1.1.4)\n",
            "Requirement already satisfied: gitpython>=3.1.2 in /usr/local/lib/python3.7/dist-packages (from fitlog) (3.1.27)\n",
            "Requirement already satisfied: Jinja2<3.0,>=2.10.1 in /usr/local/lib/python3.7/dist-packages (from flask>=1.0.2->fitlog) (2.11.3)\n",
            "Requirement already satisfied: itsdangerous<2.0,>=0.24 in /usr/local/lib/python3.7/dist-packages (from flask>=1.0.2->fitlog) (1.1.0)\n",
            "Requirement already satisfied: click<8.0,>=5.1 in /usr/local/lib/python3.7/dist-packages (from flask>=1.0.2->fitlog) (7.1.2)\n",
            "Requirement already satisfied: Werkzeug<2.0,>=0.15 in /usr/local/lib/python3.7/dist-packages (from flask>=1.0.2->fitlog) (1.0.1)\n",
            "Requirement already satisfied: typing-extensions>=3.7.4.3 in /usr/local/lib/python3.7/dist-packages (from gitpython>=3.1.2->fitlog) (3.10.0.2)\n",
            "Requirement already satisfied: gitdb<5,>=4.0.1 in /usr/local/lib/python3.7/dist-packages (from gitpython>=3.1.2->fitlog) (4.0.9)\n",
            "Requirement already satisfied: smmap<6,>=3.0.1 in /usr/local/lib/python3.7/dist-packages (from gitdb<5,>=4.0.1->gitpython>=3.1.2->fitlog) (5.0.0)\n",
            "Requirement already satisfied: MarkupSafe>=0.23 in /usr/local/lib/python3.7/dist-packages (from Jinja2<3.0,>=2.10.1->flask>=1.0.2->fitlog) (2.0.1)\n"
          ]
        }
      ]
    },
    {
      "cell_type": "code",
      "source": [
        "%cd /content/CoG-BART\n",
        "!mkdir EmoryNLP\n"
      ],
      "metadata": {
        "colab": {
          "base_uri": "https://localhost:8080/"
        },
        "id": "FGHvt7neKFCn",
        "outputId": "79de81ae-3b28-44e5-c11f-4a4152784eee"
      },
      "execution_count": 11,
      "outputs": [
        {
          "output_type": "stream",
          "name": "stdout",
          "text": [
            "/content/CoG-BART\n"
          ]
        }
      ]
    },
    {
      "cell_type": "code",
      "source": [
        "import shutil\n",
        "\n",
        "src_path = r\"/content/drive/MyDrive/Save_model/best_model_468186\"\n",
        "dst_path = r\"/content/CoG-BART/save/EmoryNLP/best_model_468186\"\n",
        "a = shutil.copytree(src_path, dst_path)\n",
        "print('Copied')\n"
      ],
      "metadata": {
        "id": "V2PdALFcH8om",
        "colab": {
          "base_uri": "https://localhost:8080/"
        },
        "outputId": "bb873367-d619-4062-ccd5-58146e8a64fc"
      },
      "execution_count": 19,
      "outputs": [
        {
          "output_type": "stream",
          "name": "stdout",
          "text": [
            "Copied\n"
          ]
        }
      ]
    },
    {
      "cell_type": "code",
      "source": [
        "%cd /content/CoG-BART"
      ],
      "metadata": {
        "colab": {
          "base_uri": "https://localhost:8080/"
        },
        "id": "_-zUbj91KXBs",
        "outputId": "cda5f3d0-8b96-4365-9cb6-b4034a9e7f33"
      },
      "execution_count": 20,
      "outputs": [
        {
          "output_type": "stream",
          "name": "stdout",
          "text": [
            "/content/CoG-BART\n"
          ]
        }
      ]
    },
    {
      "cell_type": "code",
      "source": [
        "!bash eval.sh EmoryNLP ./save/EmoryNLP/best_model_468186"
      ],
      "metadata": {
        "colab": {
          "base_uri": "https://localhost:8080/"
        },
        "id": "zC9yu821KGOZ",
        "outputId": "28ef025e-56c2-4308-bd2a-dee12853881e"
      },
      "execution_count": 23,
      "outputs": [
        {
          "output_type": "stream",
          "name": "stdout",
          "text": [
            "Start preprocess data\n",
            "\rpreprocessing train dataset:   0% 0/713 [00:00<?, ?it/s]\rpreprocessing train dataset: 100% 713/713 [00:00<00:00, 43744.99it/s]\n",
            "\rpreprocessing dev dataset:   0% 0/99 [00:00<?, ?it/s]\rpreprocessing dev dataset: 100% 99/99 [00:00<00:00, 53427.19it/s]\n",
            "\rpreprocessing test dataset:   0% 0/85 [00:00<?, ?it/s]\rpreprocessing test dataset: 100% 85/85 [00:00<00:00, 43398.15it/s]\n",
            "Preprocess data complete\n",
            "2022-03-21 01:43:36 - The random seed is 468186\n",
            "Downloading: 100% 1.68k/1.68k [00:00<00:00, 1.27MB/s]\n",
            "/usr/local/lib/python3.7/dist-packages/transformers/configuration_utils.py:337: UserWarning: Passing `gradient_checkpointing` to a config initialization is deprecated and will be removed in v5 Transformers. Using `model.gradient_checkpointing_enable()` instead, or if you are using the `Trainer` API, pass `gradient_checkpointing=True` in your `TrainingArguments`.\n",
            "  \"Passing `gradient_checkpointing` to a config initialization is deprecated and will be removed in v5 \"\n",
            "Downloading: 100% 878k/878k [00:00<00:00, 7.47MB/s]\n",
            "Downloading: 100% 446k/446k [00:00<00:00, 4.79MB/s]\n",
            "Downloading: 100% 1.29M/1.29M [00:00<00:00, 11.0MB/s]\n",
            "building datasets..\n",
            "2022-03-21 01:43:46 - ***** Running evaluate *****\n",
            "2022-03-21 01:43:46 -   Num examples = 212\n",
            "2022-03-21 01:43:46 -   Batch size = 6\n",
            "evaluate:   0% 0/36 [00:00<?, ?it/s]h\n",
            "\n",
            "evaluate: 100% 36/36 [37:05<00:00, 61.83s/it]\n",
            "2022-03-21 02:20:52 - ***** evaluate results *****\n",
            "2022-03-21 02:20:52 -   acc = 44.0476\n",
            "  acc = 44.0476\n",
            "2022-03-21 02:20:52 -   macro_f1 = 41.2388\n",
            "  macro_f1 = 41.2388\n",
            "2022-03-21 02:20:52 -   micro_f1 = 44.0476\n",
            "  micro_f1 = 44.0476\n",
            "2022-03-21 02:20:52 - Correct / Total num = (592/1344)\n",
            "{'acc': 44.0476, 'macro_f1': 41.2388, 'micro_f1': 44.0476}\n",
            "2022-03-21 02:20:52 - ***** Running predict *****\n",
            "2022-03-21 02:20:52 -   Num examples = 204\n",
            "2022-03-21 02:20:52 -   Batch size = 6\n",
            "predict: 100% 34/34 [36:28<00:00, 64.36s/it]\n",
            "2022-03-21 02:57:21 - ***** predict results *****\n",
            "2022-03-21 02:57:21 -   acc = 43.5241\n",
            "  acc = 43.5241\n",
            "2022-03-21 02:57:21 -   macro_f1 = 39.1408\n",
            "  macro_f1 = 39.1408\n",
            "2022-03-21 02:57:21 -   micro_f1 = 43.5241\n",
            "  micro_f1 = 43.5241\n",
            "2022-03-21 02:57:21 - Correct / Total num = (578/1328)\n",
            "{'acc': 43.5241, 'macro_f1': 39.1408, 'micro_f1': 43.5241}\n"
          ]
        }
      ]
    },
    {
      "cell_type": "code",
      "source": [
        ""
      ],
      "metadata": {
        "id": "1MhsoBBIKVgr"
      },
      "execution_count": null,
      "outputs": []
    }
  ]
}